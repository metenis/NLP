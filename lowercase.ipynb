{
 "cells": [
  {
   "cell_type": "code",
   "execution_count": 4,
   "metadata": {},
   "outputs": [
    {
     "name": "stdout",
     "output_type": "stream",
     "text": [
      "Hello World! This is an EXAMPLE of Text Processing.\n"
     ]
    }
   ],
   "source": [
    "# Define a string variable containing a sentence with mixed capitalization\n",
    "sentence = \"Hello World! This is an EXAMPLE of Text Processing.\"\n",
    "\n",
    "# Print the sentence to the console\n",
    "print(sentence)"
   ]
  },
  {
   "cell_type": "code",
   "execution_count": 5,
   "metadata": {},
   "outputs": [
    {
     "name": "stdout",
     "output_type": "stream",
     "text": [
      "hello world! this is an example of text processing.\n"
     ]
    }
   ],
   "source": [
    "# Convert the sentence to lowercase and store it in a new variable\n",
    "sentence_lowercase = sentence.lower()\n",
    "\n",
    "# Print the lowercase version of the sentence to the console\n",
    "print(sentence_lowercase)"
   ]
  },
  {
   "cell_type": "code",
   "execution_count": 7,
   "metadata": {},
   "outputs": [
    {
     "name": "stdout",
     "output_type": "stream",
     "text": [
      "['ThIs Is a MiXeD cAsE SeNtEnCe.', 'hELLO wORLD! hOW aRe YoU?', 'Python Is A pOpUlAr PrOgRaMmInG lAnGuAgE.', 'DaTa ScIeNcE iS fAsCiNaTiNg!', 'ArTiFiCiAl InTeLlIgEnCe WiLl ShApE tHe FuTuRe.', 'tEsT eNgInEeRiNg ReQuIrEs AtTeNtIoN tO dEtAiL.', 'ThE qUiCk BrOwN fOx JuMpS oVeR tHe LaZy DoG.', 'cOdInG Is BoTh aRt aNd ScIeNcE.', 'mAcHiNe LeArNiNg Is TrAnSfOrMiNg iNdUsTrIeS.', 'cOmPuTeR vIsIoN EnAbLeS aUtoMaTiC iMaGe ReCoGnItIoN.']\n"
     ]
    }
   ],
   "source": [
    "# List of sentences with mixed capitalization\n",
    "sentences_list = [\n",
    "    \"ThIs Is a MiXeD cAsE SeNtEnCe.\",\n",
    "    \"hELLO wORLD! hOW aRe YoU?\",\n",
    "    \"Python Is A pOpUlAr PrOgRaMmInG lAnGuAgE.\",\n",
    "    \"DaTa ScIeNcE iS fAsCiNaTiNg!\",\n",
    "    \"ArTiFiCiAl InTeLlIgEnCe WiLl ShApE tHe FuTuRe.\",\n",
    "    \"tEsT eNgInEeRiNg ReQuIrEs AtTeNtIoN tO dEtAiL.\",\n",
    "    \"ThE qUiCk BrOwN fOx JuMpS oVeR tHe LaZy DoG.\",\n",
    "    \"cOdInG Is BoTh aRt aNd ScIeNcE.\",\n",
    "    \"mAcHiNe LeArNiNg Is TrAnSfOrMiNg iNdUsTrIeS.\",\n",
    "    \"cOmPuTeR vIsIoN EnAbLeS aUtoMaTiC iMaGe ReCoGnItIoN.\"\n",
    "]\n",
    "\n",
    "# Print the list of mixed capitalization sentences\n",
    "print(sentences_list)"
   ]
  },
  {
   "cell_type": "code",
   "execution_count": 10,
   "metadata": {},
   "outputs": [
    {
     "name": "stdout",
     "output_type": "stream",
     "text": [
      "['this is a mixed case sentence.', 'hello world! how are you?', 'python is a popular programming language.', 'data science is fascinating!', 'artificial intelligence will shape the future.', 'test engineering requires attention to detail.', 'the quick brown fox jumps over the lazy dog.', 'coding is both art and science.', 'machine learning is transforming industries.', 'computer vision enables automatic image recognition.']\n"
     ]
    }
   ],
   "source": [
    "# Convert each sentence in the list to lowercase and store them in a new list\n",
    "lower_sentence_list = [x.lower() for x in sentences_list]\n",
    "\n",
    "# Print the list of lowercase sentences\n",
    "print(lower_sentence_list)"
   ]
  }
 ],
 "metadata": {
  "kernelspec": {
   "display_name": "base",
   "language": "python",
   "name": "python3"
  },
  "language_info": {
   "codemirror_mode": {
    "name": "ipython",
    "version": 3
   },
   "file_extension": ".py",
   "mimetype": "text/x-python",
   "name": "python",
   "nbconvert_exporter": "python",
   "pygments_lexer": "ipython3",
   "version": "3.12.4"
  }
 },
 "nbformat": 4,
 "nbformat_minor": 2
}
